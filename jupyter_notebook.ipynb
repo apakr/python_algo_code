{
 "cells": [
  {
   "cell_type": "code",
   "execution_count": 62,
   "metadata": {},
   "outputs": [],
   "source": [
    "import pandas as pd\n",
    "import yfinance as yf"
   ]
  },
  {
   "cell_type": "code",
   "execution_count": 181,
   "metadata": {},
   "outputs": [
    {
     "name": "stdout",
     "output_type": "stream",
     "text": [
      "[*********************100%***********************]  1 of 1 completed\n"
     ]
    }
   ],
   "source": [
    "df = yf.download('TMS', start='2020-12-31')"
   ]
  },
  {
   "cell_type": "code",
   "execution_count": 182,
   "metadata": {},
   "outputs": [],
   "source": [
    "buy_dates = pd.date_range(df.index[0], df.index[-1], freq='1M')"
   ]
  },
  {
   "cell_type": "code",
   "execution_count": 183,
   "metadata": {},
   "outputs": [],
   "source": [
    "buyprices = df[df.index.isin(buy_dates)].Close"
   ]
  },
  {
   "cell_type": "code",
   "execution_count": 184,
   "metadata": {},
   "outputs": [],
   "source": [
    "btc_amt = 500 / buyprices"
   ]
  },
  {
   "cell_type": "code",
   "execution_count": 185,
   "metadata": {},
   "outputs": [],
   "source": [
    "btc_amt_LS = 500*len(buyprices) / buyprices[0]"
   ]
  },
  {
   "cell_type": "code",
   "execution_count": 186,
   "metadata": {},
   "outputs": [
    {
     "data": {
      "text/plain": [
       "Date\n",
       "2020-12-31    0.013850\n",
       "2021-03-31    0.022908\n",
       "2021-04-30    0.032712\n",
       "2021-06-30    0.042058\n",
       "2021-08-31    0.050987\n",
       "2021-09-30    0.058405\n",
       "2021-11-30    0.063900\n",
       "2021-12-31    0.070566\n",
       "2022-01-31    0.077332\n",
       "2022-02-28    0.082651\n",
       "Name: Close, dtype: float64"
      ]
     },
     "execution_count": 186,
     "metadata": {},
     "output_type": "execute_result"
    }
   ],
   "source": [
    "btc_amt_sum = btc_amt.cumsum()\n",
    "btc_amt_sum"
   ]
  },
  {
   "cell_type": "code",
   "execution_count": 187,
   "metadata": {},
   "outputs": [
    {
     "data": {
      "text/plain": [
       "'btc_amt_DCA'"
      ]
     },
     "execution_count": 187,
     "metadata": {},
     "output_type": "execute_result"
    }
   ],
   "source": [
    "btc_amt_sum.name = 'btc_amt_DCA'\n",
    "btc_amt_sum.name"
   ]
  },
  {
   "cell_type": "code",
   "execution_count": 188,
   "metadata": {},
   "outputs": [],
   "source": [
    "# btc_amt_sum.name\n",
    "df_tog = pd.concat([btc_amt_sum, df], axis = 1).ffill()\n",
    "# df_tog"
   ]
  },
  {
   "cell_type": "code",
   "execution_count": 189,
   "metadata": {},
   "outputs": [
    {
     "data": {
      "text/plain": [
       "Date\n",
       "2020-12-31     5000.000000\n",
       "2021-01-04     5013.850416\n",
       "2021-01-05     4889.196676\n",
       "2021-01-06     4972.299169\n",
       "2021-01-07     5083.102493\n",
       "                  ...     \n",
       "2022-02-24    12742.382271\n",
       "2022-02-25    13088.642659\n",
       "2022-02-28    13019.390582\n",
       "2022-03-01    12839.335180\n",
       "2022-03-02    12534.626039\n",
       "Name: Close, Length: 289, dtype: float64"
      ]
     },
     "execution_count": 189,
     "metadata": {},
     "output_type": "execute_result"
    }
   ],
   "source": [
    "cash_amt_LS = btc_amt_LS*df.Close\n",
    "cash_amt_LS"
   ]
  },
  {
   "cell_type": "code",
   "execution_count": 190,
   "metadata": {},
   "outputs": [
    {
     "data": {
      "text/plain": [
       "Date\n",
       "2020-12-31     500.000000\n",
       "2021-01-04     501.385042\n",
       "2021-01-05     488.919668\n",
       "2021-01-06     497.229917\n",
       "2021-01-07     508.310249\n",
       "                 ...     \n",
       "2022-02-24    7114.557208\n",
       "2022-02-25    7307.887567\n",
       "2022-02-28    7769.221495\n",
       "2022-03-01    7661.774815\n",
       "2022-03-02    7479.941972\n",
       "Length: 289, dtype: float64"
      ]
     },
     "execution_count": 190,
     "metadata": {},
     "output_type": "execute_result"
    }
   ],
   "source": [
    "cash_amt_DCA = df_tog.btc_amt_DCA*df.Close\n",
    "cash_amt_DCA"
   ]
  },
  {
   "cell_type": "code",
   "execution_count": 191,
   "metadata": {},
   "outputs": [],
   "source": [
    "df_tog['btc_amt_LS'] = btc_amt_LS\n",
    "df_tog['cash_amt_LS'] = cash_amt_LS\n",
    "df_tog['cash_amt_DCA'] = cash_amt_DCA"
   ]
  },
  {
   "cell_type": "code",
   "execution_count": 192,
   "metadata": {},
   "outputs": [
    {
     "data": {
      "text/html": [
       "<div>\n",
       "<style scoped>\n",
       "    .dataframe tbody tr th:only-of-type {\n",
       "        vertical-align: middle;\n",
       "    }\n",
       "\n",
       "    .dataframe tbody tr th {\n",
       "        vertical-align: top;\n",
       "    }\n",
       "\n",
       "    .dataframe thead th {\n",
       "        text-align: right;\n",
       "    }\n",
       "</style>\n",
       "<table border=\"1\" class=\"dataframe\">\n",
       "  <thead>\n",
       "    <tr style=\"text-align: right;\">\n",
       "      <th></th>\n",
       "      <th>btc_amt_DCA</th>\n",
       "      <th>Open</th>\n",
       "      <th>High</th>\n",
       "      <th>Low</th>\n",
       "      <th>Close</th>\n",
       "      <th>Adj Close</th>\n",
       "      <th>Volume</th>\n",
       "      <th>btc_amt_LS</th>\n",
       "      <th>cash_amt_LS</th>\n",
       "      <th>cash_amt_DCA</th>\n",
       "    </tr>\n",
       "    <tr>\n",
       "      <th>Date</th>\n",
       "      <th></th>\n",
       "      <th></th>\n",
       "      <th></th>\n",
       "      <th></th>\n",
       "      <th></th>\n",
       "      <th></th>\n",
       "      <th></th>\n",
       "      <th></th>\n",
       "      <th></th>\n",
       "      <th></th>\n",
       "    </tr>\n",
       "  </thead>\n",
       "  <tbody>\n",
       "    <tr>\n",
       "      <th>2020-12-31</th>\n",
       "      <td>0.013850</td>\n",
       "      <td>35750.0</td>\n",
       "      <td>36400.0</td>\n",
       "      <td>35750.0</td>\n",
       "      <td>36100.0</td>\n",
       "      <td>36100.0</td>\n",
       "      <td>18170</td>\n",
       "      <td>0.138504</td>\n",
       "      <td>5000.000000</td>\n",
       "      <td>500.000000</td>\n",
       "    </tr>\n",
       "    <tr>\n",
       "      <th>2021-01-04</th>\n",
       "      <td>0.013850</td>\n",
       "      <td>36100.0</td>\n",
       "      <td>36500.0</td>\n",
       "      <td>36000.0</td>\n",
       "      <td>36200.0</td>\n",
       "      <td>36200.0</td>\n",
       "      <td>1950</td>\n",
       "      <td>0.138504</td>\n",
       "      <td>5013.850416</td>\n",
       "      <td>501.385042</td>\n",
       "    </tr>\n",
       "    <tr>\n",
       "      <th>2021-01-05</th>\n",
       "      <td>0.013850</td>\n",
       "      <td>35600.0</td>\n",
       "      <td>36000.0</td>\n",
       "      <td>35300.0</td>\n",
       "      <td>35300.0</td>\n",
       "      <td>35300.0</td>\n",
       "      <td>1150</td>\n",
       "      <td>0.138504</td>\n",
       "      <td>4889.196676</td>\n",
       "      <td>488.919668</td>\n",
       "    </tr>\n",
       "    <tr>\n",
       "      <th>2021-01-06</th>\n",
       "      <td>0.013850</td>\n",
       "      <td>35900.0</td>\n",
       "      <td>35900.0</td>\n",
       "      <td>35000.0</td>\n",
       "      <td>35900.0</td>\n",
       "      <td>35900.0</td>\n",
       "      <td>6250</td>\n",
       "      <td>0.138504</td>\n",
       "      <td>4972.299169</td>\n",
       "      <td>497.229917</td>\n",
       "    </tr>\n",
       "    <tr>\n",
       "      <th>2021-01-07</th>\n",
       "      <td>0.013850</td>\n",
       "      <td>35600.0</td>\n",
       "      <td>36800.0</td>\n",
       "      <td>35500.0</td>\n",
       "      <td>36700.0</td>\n",
       "      <td>36700.0</td>\n",
       "      <td>4710</td>\n",
       "      <td>0.138504</td>\n",
       "      <td>5083.102493</td>\n",
       "      <td>508.310249</td>\n",
       "    </tr>\n",
       "    <tr>\n",
       "      <th>...</th>\n",
       "      <td>...</td>\n",
       "      <td>...</td>\n",
       "      <td>...</td>\n",
       "      <td>...</td>\n",
       "      <td>...</td>\n",
       "      <td>...</td>\n",
       "      <td>...</td>\n",
       "      <td>...</td>\n",
       "      <td>...</td>\n",
       "      <td>...</td>\n",
       "    </tr>\n",
       "    <tr>\n",
       "      <th>2022-02-24</th>\n",
       "      <td>0.077332</td>\n",
       "      <td>94000.0</td>\n",
       "      <td>94500.0</td>\n",
       "      <td>91300.0</td>\n",
       "      <td>92000.0</td>\n",
       "      <td>92000.0</td>\n",
       "      <td>155700</td>\n",
       "      <td>0.138504</td>\n",
       "      <td>12742.382271</td>\n",
       "      <td>7114.557208</td>\n",
       "    </tr>\n",
       "    <tr>\n",
       "      <th>2022-02-25</th>\n",
       "      <td>0.077332</td>\n",
       "      <td>92000.0</td>\n",
       "      <td>95000.0</td>\n",
       "      <td>92000.0</td>\n",
       "      <td>94500.0</td>\n",
       "      <td>94500.0</td>\n",
       "      <td>51800</td>\n",
       "      <td>0.138504</td>\n",
       "      <td>13088.642659</td>\n",
       "      <td>7307.887567</td>\n",
       "    </tr>\n",
       "    <tr>\n",
       "      <th>2022-02-28</th>\n",
       "      <td>0.082651</td>\n",
       "      <td>93000.0</td>\n",
       "      <td>95000.0</td>\n",
       "      <td>92600.0</td>\n",
       "      <td>94000.0</td>\n",
       "      <td>94000.0</td>\n",
       "      <td>11900</td>\n",
       "      <td>0.138504</td>\n",
       "      <td>13019.390582</td>\n",
       "      <td>7769.221495</td>\n",
       "    </tr>\n",
       "    <tr>\n",
       "      <th>2022-03-01</th>\n",
       "      <td>0.082651</td>\n",
       "      <td>93100.0</td>\n",
       "      <td>93500.0</td>\n",
       "      <td>88000.0</td>\n",
       "      <td>92700.0</td>\n",
       "      <td>92700.0</td>\n",
       "      <td>30000</td>\n",
       "      <td>0.138504</td>\n",
       "      <td>12839.335180</td>\n",
       "      <td>7661.774815</td>\n",
       "    </tr>\n",
       "    <tr>\n",
       "      <th>2022-03-02</th>\n",
       "      <td>0.082651</td>\n",
       "      <td>90000.0</td>\n",
       "      <td>92000.0</td>\n",
       "      <td>89000.0</td>\n",
       "      <td>90500.0</td>\n",
       "      <td>90500.0</td>\n",
       "      <td>16000</td>\n",
       "      <td>0.138504</td>\n",
       "      <td>12534.626039</td>\n",
       "      <td>7479.941972</td>\n",
       "    </tr>\n",
       "  </tbody>\n",
       "</table>\n",
       "<p>289 rows × 10 columns</p>\n",
       "</div>"
      ],
      "text/plain": [
       "            btc_amt_DCA     Open     High      Low    Close  Adj Close  \\\n",
       "Date                                                                     \n",
       "2020-12-31     0.013850  35750.0  36400.0  35750.0  36100.0    36100.0   \n",
       "2021-01-04     0.013850  36100.0  36500.0  36000.0  36200.0    36200.0   \n",
       "2021-01-05     0.013850  35600.0  36000.0  35300.0  35300.0    35300.0   \n",
       "2021-01-06     0.013850  35900.0  35900.0  35000.0  35900.0    35900.0   \n",
       "2021-01-07     0.013850  35600.0  36800.0  35500.0  36700.0    36700.0   \n",
       "...                 ...      ...      ...      ...      ...        ...   \n",
       "2022-02-24     0.077332  94000.0  94500.0  91300.0  92000.0    92000.0   \n",
       "2022-02-25     0.077332  92000.0  95000.0  92000.0  94500.0    94500.0   \n",
       "2022-02-28     0.082651  93000.0  95000.0  92600.0  94000.0    94000.0   \n",
       "2022-03-01     0.082651  93100.0  93500.0  88000.0  92700.0    92700.0   \n",
       "2022-03-02     0.082651  90000.0  92000.0  89000.0  90500.0    90500.0   \n",
       "\n",
       "            Volume  btc_amt_LS   cash_amt_LS  cash_amt_DCA  \n",
       "Date                                                        \n",
       "2020-12-31   18170    0.138504   5000.000000    500.000000  \n",
       "2021-01-04    1950    0.138504   5013.850416    501.385042  \n",
       "2021-01-05    1150    0.138504   4889.196676    488.919668  \n",
       "2021-01-06    6250    0.138504   4972.299169    497.229917  \n",
       "2021-01-07    4710    0.138504   5083.102493    508.310249  \n",
       "...            ...         ...           ...           ...  \n",
       "2022-02-24  155700    0.138504  12742.382271   7114.557208  \n",
       "2022-02-25   51800    0.138504  13088.642659   7307.887567  \n",
       "2022-02-28   11900    0.138504  13019.390582   7769.221495  \n",
       "2022-03-01   30000    0.138504  12839.335180   7661.774815  \n",
       "2022-03-02   16000    0.138504  12534.626039   7479.941972  \n",
       "\n",
       "[289 rows x 10 columns]"
      ]
     },
     "execution_count": 192,
     "metadata": {},
     "output_type": "execute_result"
    }
   ],
   "source": [
    "df_tog"
   ]
  },
  {
   "cell_type": "code",
   "execution_count": null,
   "metadata": {},
   "outputs": [],
   "source": []
  }
 ],
 "metadata": {
  "kernelspec": {
   "display_name": "Python 3",
   "language": "python",
   "name": "python3"
  },
  "language_info": {
   "codemirror_mode": {
    "name": "ipython",
    "version": 3
   },
   "file_extension": ".py",
   "mimetype": "text/x-python",
   "name": "python",
   "nbconvert_exporter": "python",
   "pygments_lexer": "ipython3",
   "version": "3.10.10"
  },
  "orig_nbformat": 4,
  "vscode": {
   "interpreter": {
    "hash": "92c210be4c922f2ed4c2157985d3485533e10f19d916c56102d5864263fe1e51"
   }
  }
 },
 "nbformat": 4,
 "nbformat_minor": 2
}
